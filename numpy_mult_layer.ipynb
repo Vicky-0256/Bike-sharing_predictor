{
 "cells": [
  {
   "cell_type": "markdown",
   "metadata": {},
   "source": [
    "# 利用numpy实现多层神经网络单车预测器\n",
    "\n",
    "  本文基于国外的共享单车公开数据集（Capital Bikeshare），利用numpy构建了一个多层的神经网络的单车预测器，用来预测某一时间、某一停放区域的单车数量，供共享单车公司参考，以实现对单车的合理投放。主要内容有：\n",
    "\n",
    "1. 该单车预测器的网络结构为多层全连接神经网络，每层神经元数目可以进行自定义设置，激活函数为sigmoid函数。\n",
    "2. 数据输入为56个特征，包含星期几、是否节假日、温度、湿度等属性。\n",
    "3. 参数更新运用梯度下降法，其中梯度计算利用反向传播算法进行。\n",
    "4. 训练过程采用了批处理\n",
    "5. 对最后一个月的数据进行了预测\n",
    "6. 对单层、双层、三层神经网络进行了简单的比较\n",
    "\n"
   ]
  },
  {
   "cell_type": "code",
   "execution_count": 901,
   "metadata": {},
   "outputs": [],
   "source": [
    "#导入需要使用的库\n",
    "import numpy as np\n",
    "import pandas as pd #读取csv文件的库\n",
    "import matplotlib.pyplot as plt\n",
    "\n",
    "# 让输出的图形直接在Notebook中显示\n",
    "%matplotlib inline"
   ]
  },
  {
   "cell_type": "markdown",
   "metadata": {},
   "source": [
    "## 一、数据预处理\n",
    "\n",
    "首先导入单车数据集，并对数据进行预处理工作。"
   ]
  },
  {
   "cell_type": "code",
   "execution_count": 902,
   "metadata": {},
   "outputs": [],
   "source": [
    "#读取数据到内存中，rides为一个dataframe对象\n",
    "data_path = 'Bike-Sharing-Dataset/hour.csv'\n",
    "rides = pd.read_csv(data_path)"
   ]
  },
  {
   "cell_type": "markdown",
   "metadata": {},
   "source": [
    "### 1. 将类型变量进行one-hot编码\n",
    "\n",
    "有很多变量都属于类型变量，例如season=1,2,3,4，分四季。我们不能将season变量直接输入到神经网络，这是因为season数值越高并不表示相应的信号强度越大。我们的解决方案是将类型变量用一个“一位热码“（one-hot）来编码，也就是：\n",
    "\n",
    "$\n",
    "season = 1 \\rightarrow (1, 0, 0 ,0) \\\\\n",
    "season = 2 \\rightarrow (0, 1, 0, 0) \\\\\n",
    "season = 3 \\rightarrow (0, 0, 1, 0) \\\\\n",
    "season = 4 \\rightarrow (0, 0, 0, 1) \\\\\n",
    "$\n",
    "\n",
    "因此，如果一个类型变量有n个不同取值，那么我们的“一位热码“所对应的向量长度就为n"
   ]
  },
  {
   "cell_type": "code",
   "execution_count": 903,
   "metadata": {},
   "outputs": [],
   "source": [
    "#对于类型变量的特殊处理\n",
    "# season=1,2,3,4, weathersi=1,2,3, mnth= 1,2,...,12, hr=0,1, ...,23, weekday=0,1,...,6\n",
    "# 经过下面的处理后，将会多出若干特征，例如，对于season变量就会有 season_1, season_2, season_3, season_4\n",
    "# 这四种不同的特征。\n",
    "dummy_fields = ['season', 'weathersit', 'mnth', 'hr', 'weekday']\n",
    "for each in dummy_fields:\n",
    "    #利用pandas对象，我们可以很方便地将一个类型变量属性进行one-hot编码，变成多个属性\n",
    "    dummies = pd.get_dummies(rides[each], prefix=each, drop_first=False)\n",
    "    rides = pd.concat([rides, dummies], axis=1)\n",
    "\n",
    "# 把原有的类型变量对应的特征去掉，将一些不相关的特征去掉\n",
    "fields_to_drop = ['instant', 'dteday', 'season', 'weathersit', \n",
    "                  'weekday', 'atemp', 'mnth', 'workingday', 'hr']\n",
    "data = rides.drop(fields_to_drop, axis=1)"
   ]
  },
  {
   "cell_type": "markdown",
   "metadata": {},
   "source": [
    "### 2. 将数值类型变量进行标准化\n",
    "由于每个数值型变量都是相互独立的，所以它们的数值绝对大小与问题本身没有关系，为了消除数值大小的差异，我们对每一个数值型变量进行标准化处理，也就是让其数值都围绕着0左右波动。比如，对于温度temp这个变量来说，它在整个数据库取值的平均着为mean(temp), 方差为std(temp)，所以，归一化的温度计算为：\n",
    "\n",
    "$ temp'=\\frac{temp - mean(temp)}{std(temp)}$\n",
    "\n",
    "这样做的好处就是可以将不同的取值范围的变量设置为让它们处于一个平等的地位。"
   ]
  },
  {
   "cell_type": "code",
   "execution_count": 904,
   "metadata": {},
   "outputs": [],
   "source": [
    "# 调整所有的特征，标准化处理\n",
    "quant_features = ['cnt', 'temp', 'hum', 'windspeed']\n",
    "#quant_features = ['temp', 'hum', 'windspeed']\n",
    "\n",
    "# 我们将每一个变量的均值和方差都存储到scaled_features变量中。\n",
    "scaled_features = {}\n",
    "for each in quant_features:\n",
    "    mean, std = data[each].mean(), data[each].std()\n",
    "    scaled_features[each] = [mean, std]\n",
    "    data.loc[:, each] = (data[each] - mean)/std"
   ]
  },
  {
   "cell_type": "markdown",
   "metadata": {},
   "source": [
    "### 3. 将数据集进行分割\n",
    "将数据集分为测试集与训练集"
   ]
  },
  {
   "cell_type": "code",
   "execution_count": 905,
   "metadata": {},
   "outputs": [
    {
     "name": "stdout",
     "output_type": "stream",
     "text": [
      "训练数据： 16875 测试数据： 504\n"
     ]
    }
   ],
   "source": [
    "# 将所有的数据集分为测试集和训练集，我们以后21天数据一共21*24个数据点作为测试集，其它是训练集\n",
    "test_data = data[-21*24:]\n",
    "train_data = data[:-21*24]\n",
    "print('训练数据：',len(train_data),'测试数据：',len(test_data))\n",
    "\n",
    "# 将我们的数据列分为特征列和目标列\n",
    "\n",
    "#目标列\n",
    "target_fields = ['cnt', 'casual', 'registered']\n",
    "features, targets = train_data.drop(target_fields, axis=1), train_data[target_fields]\n",
    "test_features, test_targets = test_data.drop(target_fields, axis=1), test_data[target_fields]\n",
    "\n",
    "# 将数据从pandas dataframe转换为numpy\n",
    "X = features.values\n",
    "Y = targets['cnt'].values\n",
    "Y = Y.astype(float)\n",
    "\n",
    "\n",
    "Y = np.reshape(Y, [len(Y),1])\n",
    "losses = []"
   ]
  },
  {
   "cell_type": "code",
   "execution_count": 906,
   "metadata": {},
   "outputs": [
    {
     "data": {
      "text/html": [
       "<div>\n",
       "<style scoped>\n",
       "    .dataframe tbody tr th:only-of-type {\n",
       "        vertical-align: middle;\n",
       "    }\n",
       "\n",
       "    .dataframe tbody tr th {\n",
       "        vertical-align: top;\n",
       "    }\n",
       "\n",
       "    .dataframe thead th {\n",
       "        text-align: right;\n",
       "    }\n",
       "</style>\n",
       "<table border=\"1\" class=\"dataframe\">\n",
       "  <thead>\n",
       "    <tr style=\"text-align: right;\">\n",
       "      <th></th>\n",
       "      <th>yr</th>\n",
       "      <th>holiday</th>\n",
       "      <th>temp</th>\n",
       "      <th>hum</th>\n",
       "      <th>windspeed</th>\n",
       "      <th>season_1</th>\n",
       "      <th>season_2</th>\n",
       "      <th>season_3</th>\n",
       "      <th>season_4</th>\n",
       "      <th>weathersit_1</th>\n",
       "      <th>...</th>\n",
       "      <th>hr_21</th>\n",
       "      <th>hr_22</th>\n",
       "      <th>hr_23</th>\n",
       "      <th>weekday_0</th>\n",
       "      <th>weekday_1</th>\n",
       "      <th>weekday_2</th>\n",
       "      <th>weekday_3</th>\n",
       "      <th>weekday_4</th>\n",
       "      <th>weekday_5</th>\n",
       "      <th>weekday_6</th>\n",
       "    </tr>\n",
       "  </thead>\n",
       "  <tbody>\n",
       "    <tr>\n",
       "      <td>0</td>\n",
       "      <td>0</td>\n",
       "      <td>0</td>\n",
       "      <td>-1.334609</td>\n",
       "      <td>0.947345</td>\n",
       "      <td>-1.553844</td>\n",
       "      <td>1</td>\n",
       "      <td>0</td>\n",
       "      <td>0</td>\n",
       "      <td>0</td>\n",
       "      <td>1</td>\n",
       "      <td>...</td>\n",
       "      <td>0</td>\n",
       "      <td>0</td>\n",
       "      <td>0</td>\n",
       "      <td>0</td>\n",
       "      <td>0</td>\n",
       "      <td>0</td>\n",
       "      <td>0</td>\n",
       "      <td>0</td>\n",
       "      <td>0</td>\n",
       "      <td>1</td>\n",
       "    </tr>\n",
       "    <tr>\n",
       "      <td>1</td>\n",
       "      <td>0</td>\n",
       "      <td>0</td>\n",
       "      <td>-1.438475</td>\n",
       "      <td>0.895513</td>\n",
       "      <td>-1.553844</td>\n",
       "      <td>1</td>\n",
       "      <td>0</td>\n",
       "      <td>0</td>\n",
       "      <td>0</td>\n",
       "      <td>1</td>\n",
       "      <td>...</td>\n",
       "      <td>0</td>\n",
       "      <td>0</td>\n",
       "      <td>0</td>\n",
       "      <td>0</td>\n",
       "      <td>0</td>\n",
       "      <td>0</td>\n",
       "      <td>0</td>\n",
       "      <td>0</td>\n",
       "      <td>0</td>\n",
       "      <td>1</td>\n",
       "    </tr>\n",
       "    <tr>\n",
       "      <td>2</td>\n",
       "      <td>0</td>\n",
       "      <td>0</td>\n",
       "      <td>-1.438475</td>\n",
       "      <td>0.895513</td>\n",
       "      <td>-1.553844</td>\n",
       "      <td>1</td>\n",
       "      <td>0</td>\n",
       "      <td>0</td>\n",
       "      <td>0</td>\n",
       "      <td>1</td>\n",
       "      <td>...</td>\n",
       "      <td>0</td>\n",
       "      <td>0</td>\n",
       "      <td>0</td>\n",
       "      <td>0</td>\n",
       "      <td>0</td>\n",
       "      <td>0</td>\n",
       "      <td>0</td>\n",
       "      <td>0</td>\n",
       "      <td>0</td>\n",
       "      <td>1</td>\n",
       "    </tr>\n",
       "    <tr>\n",
       "      <td>3</td>\n",
       "      <td>0</td>\n",
       "      <td>0</td>\n",
       "      <td>-1.334609</td>\n",
       "      <td>0.636351</td>\n",
       "      <td>-1.553844</td>\n",
       "      <td>1</td>\n",
       "      <td>0</td>\n",
       "      <td>0</td>\n",
       "      <td>0</td>\n",
       "      <td>1</td>\n",
       "      <td>...</td>\n",
       "      <td>0</td>\n",
       "      <td>0</td>\n",
       "      <td>0</td>\n",
       "      <td>0</td>\n",
       "      <td>0</td>\n",
       "      <td>0</td>\n",
       "      <td>0</td>\n",
       "      <td>0</td>\n",
       "      <td>0</td>\n",
       "      <td>1</td>\n",
       "    </tr>\n",
       "    <tr>\n",
       "      <td>4</td>\n",
       "      <td>0</td>\n",
       "      <td>0</td>\n",
       "      <td>-1.334609</td>\n",
       "      <td>0.636351</td>\n",
       "      <td>-1.553844</td>\n",
       "      <td>1</td>\n",
       "      <td>0</td>\n",
       "      <td>0</td>\n",
       "      <td>0</td>\n",
       "      <td>1</td>\n",
       "      <td>...</td>\n",
       "      <td>0</td>\n",
       "      <td>0</td>\n",
       "      <td>0</td>\n",
       "      <td>0</td>\n",
       "      <td>0</td>\n",
       "      <td>0</td>\n",
       "      <td>0</td>\n",
       "      <td>0</td>\n",
       "      <td>0</td>\n",
       "      <td>1</td>\n",
       "    </tr>\n",
       "    <tr>\n",
       "      <td>...</td>\n",
       "      <td>...</td>\n",
       "      <td>...</td>\n",
       "      <td>...</td>\n",
       "      <td>...</td>\n",
       "      <td>...</td>\n",
       "      <td>...</td>\n",
       "      <td>...</td>\n",
       "      <td>...</td>\n",
       "      <td>...</td>\n",
       "      <td>...</td>\n",
       "      <td>...</td>\n",
       "      <td>...</td>\n",
       "      <td>...</td>\n",
       "      <td>...</td>\n",
       "      <td>...</td>\n",
       "      <td>...</td>\n",
       "      <td>...</td>\n",
       "      <td>...</td>\n",
       "      <td>...</td>\n",
       "      <td>...</td>\n",
       "      <td>...</td>\n",
       "    </tr>\n",
       "    <tr>\n",
       "      <td>16870</td>\n",
       "      <td>1</td>\n",
       "      <td>0</td>\n",
       "      <td>-0.088219</td>\n",
       "      <td>0.999178</td>\n",
       "      <td>0.764282</td>\n",
       "      <td>0</td>\n",
       "      <td>0</td>\n",
       "      <td>0</td>\n",
       "      <td>1</td>\n",
       "      <td>0</td>\n",
       "      <td>...</td>\n",
       "      <td>0</td>\n",
       "      <td>0</td>\n",
       "      <td>0</td>\n",
       "      <td>0</td>\n",
       "      <td>1</td>\n",
       "      <td>0</td>\n",
       "      <td>0</td>\n",
       "      <td>0</td>\n",
       "      <td>0</td>\n",
       "      <td>0</td>\n",
       "    </tr>\n",
       "    <tr>\n",
       "      <td>16871</td>\n",
       "      <td>1</td>\n",
       "      <td>0</td>\n",
       "      <td>-0.192085</td>\n",
       "      <td>1.310171</td>\n",
       "      <td>0.764282</td>\n",
       "      <td>0</td>\n",
       "      <td>0</td>\n",
       "      <td>0</td>\n",
       "      <td>1</td>\n",
       "      <td>0</td>\n",
       "      <td>...</td>\n",
       "      <td>0</td>\n",
       "      <td>0</td>\n",
       "      <td>0</td>\n",
       "      <td>0</td>\n",
       "      <td>1</td>\n",
       "      <td>0</td>\n",
       "      <td>0</td>\n",
       "      <td>0</td>\n",
       "      <td>0</td>\n",
       "      <td>0</td>\n",
       "    </tr>\n",
       "    <tr>\n",
       "      <td>16872</td>\n",
       "      <td>1</td>\n",
       "      <td>0</td>\n",
       "      <td>0.119512</td>\n",
       "      <td>0.740016</td>\n",
       "      <td>0.764282</td>\n",
       "      <td>0</td>\n",
       "      <td>0</td>\n",
       "      <td>0</td>\n",
       "      <td>1</td>\n",
       "      <td>1</td>\n",
       "      <td>...</td>\n",
       "      <td>0</td>\n",
       "      <td>0</td>\n",
       "      <td>0</td>\n",
       "      <td>0</td>\n",
       "      <td>1</td>\n",
       "      <td>0</td>\n",
       "      <td>0</td>\n",
       "      <td>0</td>\n",
       "      <td>0</td>\n",
       "      <td>0</td>\n",
       "    </tr>\n",
       "    <tr>\n",
       "      <td>16873</td>\n",
       "      <td>1</td>\n",
       "      <td>0</td>\n",
       "      <td>-0.192085</td>\n",
       "      <td>1.310171</td>\n",
       "      <td>0.519881</td>\n",
       "      <td>0</td>\n",
       "      <td>0</td>\n",
       "      <td>0</td>\n",
       "      <td>1</td>\n",
       "      <td>1</td>\n",
       "      <td>...</td>\n",
       "      <td>0</td>\n",
       "      <td>0</td>\n",
       "      <td>0</td>\n",
       "      <td>0</td>\n",
       "      <td>1</td>\n",
       "      <td>0</td>\n",
       "      <td>0</td>\n",
       "      <td>0</td>\n",
       "      <td>0</td>\n",
       "      <td>0</td>\n",
       "    </tr>\n",
       "    <tr>\n",
       "      <td>16874</td>\n",
       "      <td>1</td>\n",
       "      <td>0</td>\n",
       "      <td>-0.192085</td>\n",
       "      <td>1.621165</td>\n",
       "      <td>0.031898</td>\n",
       "      <td>0</td>\n",
       "      <td>0</td>\n",
       "      <td>0</td>\n",
       "      <td>1</td>\n",
       "      <td>0</td>\n",
       "      <td>...</td>\n",
       "      <td>1</td>\n",
       "      <td>0</td>\n",
       "      <td>0</td>\n",
       "      <td>0</td>\n",
       "      <td>1</td>\n",
       "      <td>0</td>\n",
       "      <td>0</td>\n",
       "      <td>0</td>\n",
       "      <td>0</td>\n",
       "      <td>0</td>\n",
       "    </tr>\n",
       "  </tbody>\n",
       "</table>\n",
       "<p>16875 rows × 56 columns</p>\n",
       "</div>"
      ],
      "text/plain": [
       "       yr  holiday      temp       hum  windspeed  season_1  season_2  \\\n",
       "0       0        0 -1.334609  0.947345  -1.553844         1         0   \n",
       "1       0        0 -1.438475  0.895513  -1.553844         1         0   \n",
       "2       0        0 -1.438475  0.895513  -1.553844         1         0   \n",
       "3       0        0 -1.334609  0.636351  -1.553844         1         0   \n",
       "4       0        0 -1.334609  0.636351  -1.553844         1         0   \n",
       "...    ..      ...       ...       ...        ...       ...       ...   \n",
       "16870   1        0 -0.088219  0.999178   0.764282         0         0   \n",
       "16871   1        0 -0.192085  1.310171   0.764282         0         0   \n",
       "16872   1        0  0.119512  0.740016   0.764282         0         0   \n",
       "16873   1        0 -0.192085  1.310171   0.519881         0         0   \n",
       "16874   1        0 -0.192085  1.621165   0.031898         0         0   \n",
       "\n",
       "       season_3  season_4  weathersit_1  ...  hr_21  hr_22  hr_23  weekday_0  \\\n",
       "0             0         0             1  ...      0      0      0          0   \n",
       "1             0         0             1  ...      0      0      0          0   \n",
       "2             0         0             1  ...      0      0      0          0   \n",
       "3             0         0             1  ...      0      0      0          0   \n",
       "4             0         0             1  ...      0      0      0          0   \n",
       "...         ...       ...           ...  ...    ...    ...    ...        ...   \n",
       "16870         0         1             0  ...      0      0      0          0   \n",
       "16871         0         1             0  ...      0      0      0          0   \n",
       "16872         0         1             1  ...      0      0      0          0   \n",
       "16873         0         1             1  ...      0      0      0          0   \n",
       "16874         0         1             0  ...      1      0      0          0   \n",
       "\n",
       "       weekday_1  weekday_2  weekday_3  weekday_4  weekday_5  weekday_6  \n",
       "0              0          0          0          0          0          1  \n",
       "1              0          0          0          0          0          1  \n",
       "2              0          0          0          0          0          1  \n",
       "3              0          0          0          0          0          1  \n",
       "4              0          0          0          0          0          1  \n",
       "...          ...        ...        ...        ...        ...        ...  \n",
       "16870          1          0          0          0          0          0  \n",
       "16871          1          0          0          0          0          0  \n",
       "16872          1          0          0          0          0          0  \n",
       "16873          1          0          0          0          0          0  \n",
       "16874          1          0          0          0          0          0  \n",
       "\n",
       "[16875 rows x 56 columns]"
      ]
     },
     "execution_count": 906,
     "metadata": {},
     "output_type": "execute_result"
    }
   ],
   "source": [
    "features#.head()"
   ]
  },
  {
   "cell_type": "markdown",
   "metadata": {},
   "source": [
    "## 二. 利用numpy构建神经网络"
   ]
  },
  {
   "cell_type": "markdown",
   "metadata": {},
   "source": [
    "### 1. 参数初始化"
   ]
  },
  {
   "cell_type": "code",
   "execution_count": 907,
   "metadata": {},
   "outputs": [],
   "source": [
    "def init_params(nn_architecture,seed = 99): \n",
    "    np.random.seed(seed)\n",
    "    number_of_layers = len(nn_architecture)\n",
    "    params_values = {}\n",
    "\n",
    "    #读取各层参数\n",
    "    for idx, layer in enumerate(nn_architecture):\n",
    "        layer_idx = idx+1\n",
    "        \n",
    "        print(layer)\n",
    "        layer_input_size = layer[\"input_dim\"]\n",
    "        layer_output_size = layer[\"output_dim\"]\n",
    "\n",
    "        #设置W初始化参数\n",
    "        params_values['W' + str(layer_idx)] = np.random.randn(\n",
    "            layer_output_size, layer_input_size)* 0.1\n",
    "       #设置b初始化参数\n",
    "        params_values['b' + str(layer_idx)] = np.random.randn(\n",
    "            layer_output_size, 1) * 0.1\n",
    "       \n",
    "\n",
    "    return params_values"
   ]
  },
  {
   "cell_type": "markdown",
   "metadata": {},
   "source": [
    "### 2. 设置激活函数\n",
    "该神经网络的激活函数为sigmoid函数，利用numpy写出其函数定义与导数。\n",
    "\n",
    "$ sigmoid(Z)=\\frac{1}{1+exp(-Z)}$\n",
    "\n",
    "输出层为一个没有激活函数的线性层，为了代码的书写统一与函数调用，设置激活函数“none”，即没有激活函数，供输出层使用。"
   ]
  },
  {
   "cell_type": "code",
   "execution_count": 908,
   "metadata": {},
   "outputs": [],
   "source": [
    "def sigmoid(Z):\n",
    "    return 1/(1+np.exp(-Z))\n",
    "\n",
    "def sigmoid_back(dA, Z):\n",
    "    sig = sigmoid(Z)\n",
    "    return dA * sig * (1 - sig)\n",
    "\n",
    "def none(Z):\n",
    "    return Z\n",
    "\n",
    "def none_back(dA, Z):\n",
    "    dZ = np.array(dA, copy = True)\n",
    "    return dZ"
   ]
  },
  {
   "cell_type": "markdown",
   "metadata": {},
   "source": [
    "### 3. 定义损失函数MSE"
   ]
  },
  {
   "cell_type": "code",
   "execution_count": 909,
   "metadata": {},
   "outputs": [],
   "source": [
    "def get_cost_value(Y_hat, Y):\n",
    "    cost= np.mean((Y_hat - Y) ** 2)\n",
    "    return np.squeeze(cost)"
   ]
  },
  {
   "cell_type": "markdown",
   "metadata": {},
   "source": [
    "### 4. 前向传播\n",
    "![前向传播](./前向1.png)"
   ]
  },
  {
   "cell_type": "code",
   "execution_count": 910,
   "metadata": {},
   "outputs": [],
   "source": [
    "#设置单层神经元的前向传播计算过程\n",
    "def single_layer_forward_propagation(A_prev, W_curr, b_curr, activation):\n",
    "    \n",
    "    #计算Z=W*A+b\n",
    "    Z_curr = np.dot(W_curr, A_prev) + b_curr\n",
    "    \n",
    "    if activation is \"sigmoid\":\n",
    "        activation_func = sigmoid\n",
    "    elif activation is \"none\":\n",
    "        activation_func = none  \n",
    "    else:\n",
    "        raise Exception('Non-supported activation function')\n",
    "        \n",
    "    #返回值为 激活函数*Z 与 Z\n",
    "    return activation_func(Z_curr), Z_curr"
   ]
  },
  {
   "cell_type": "code",
   "execution_count": 911,
   "metadata": {},
   "outputs": [],
   "source": [
    "#设置整个神经网络的前向传播计算\n",
    "def full_forward_propagation(X, params_values, nn_architecture):\n",
    "    memory = {}\n",
    "    #第一层的A即为输入X\n",
    "    A_curr = X\n",
    "\n",
    "    for idx, layer in enumerate(nn_architecture):\n",
    "        layer_idx = idx + 1\n",
    "        A_prev = A_curr\n",
    "\n",
    "        activ_function_curr = layer[\"activation\"]\n",
    "        W_curr = params_values[\"W\" + str(layer_idx)]\n",
    "        b_curr = params_values[\"b\" + str(layer_idx)]\n",
    "        A_curr, Z_curr = single_layer_forward_propagation(A_prev, W_curr, b_curr, activ_function_curr)\n",
    "\n",
    "        #保存A与Z的值\n",
    "        memory[\"A\" + str(idx)] = A_prev\n",
    "        memory[\"Z\" + str(layer_idx)] = Z_curr\n",
    "\n",
    "    return A_curr, memory"
   ]
  },
  {
   "cell_type": "markdown",
   "metadata": {},
   "source": [
    "### 5. 反向传播\n",
    "梯度计算分为两部分\n",
    "#### a.计算$\\frac{\\partial z}{\\partial w}$（Forward pass的部分）\n",
    "\n",
    "forward pass的运算规律是：\n",
    "\n",
    "$\\frac{\\partial z}{\\partial w_1} = x_1 $ \n",
    "\n",
    "$ \\frac{\\partial z}{\\partial w_2} = x_2$\n",
    "#### b.计算$\\frac{\\partial C}{\\partial z}$ ( Backward pass的部分 )\n",
    "从神经网络最后一层往前传，依次计算导数\n"
   ]
  },
  {
   "cell_type": "code",
   "execution_count": 912,
   "metadata": {},
   "outputs": [],
   "source": [
    "#定义单个layer的反向传播\n",
    "def single_layer_backward_propagation(dA_curr, W_curr, b_curr, Z_curr, A_prev, activation):\n",
    "    m = A_prev.shape[1]\n",
    "\n",
    "    if activation is \"sigmoid\":\n",
    "        backward_activation_func = sigmoid_back\n",
    "    elif activation is \"none\":\n",
    "        backward_activation_func= none_back\n",
    "    else:\n",
    "        raise Exception('Non-supported activation function')\n",
    "\n",
    "    dZ_curr = backward_activation_func(dA_curr, Z_curr)\n",
    "    dW_curr = np.dot(dZ_curr, A_prev.T) / m\n",
    "    db_curr = np.sum(dZ_curr, axis=1, keepdims=True) / m\n",
    "    dA_prev = np.dot(W_curr.T, dZ_curr)\n",
    "\n",
    "    return dA_prev, dW_curr, db_curr"
   ]
  },
  {
   "cell_type": "code",
   "execution_count": 913,
   "metadata": {},
   "outputs": [],
   "source": [
    "#定义整个网络的反向传播\n",
    "def full_backward_propagation(Y_hat, Y, memory, params_values, nn_architecture):\n",
    "    grads_values = {}\n",
    "    grads_values.clear()\n",
    "    m = Y.shape[1]\n",
    "    Y = Y.reshape(Y_hat.shape)\n",
    "\n",
    "    dA_prev =Y_hat-Y  #cost对于Y的导数\n",
    "\n",
    "    #将nn_architecture进行reverse，从最底层开始计算导数\n",
    "    for layer_idx_prev, layer in reversed(list(enumerate(nn_architecture))):\n",
    "        layer_idx_curr = layer_idx_prev + 1\n",
    "        activ_function_curr = layer[\"activation\"]\n",
    "\n",
    "        dA_curr = dA_prev\n",
    "\n",
    "        A_prev = memory[\"A\" + str(layer_idx_prev)]\n",
    "        Z_curr = memory[\"Z\" + str(layer_idx_curr)]\n",
    "        W_curr = params_values[\"W\" + str(layer_idx_curr)]\n",
    "        b_curr = params_values[\"b\" + str(layer_idx_curr)]\n",
    "\n",
    "        dA_prev, dW_curr, db_curr = single_layer_backward_propagation(\n",
    "            dA_curr, W_curr, b_curr, Z_curr, A_prev, activ_function_curr)\n",
    "\n",
    "        grads_values[\"dW\" + str(layer_idx_curr)] = dW_curr\n",
    "        grads_values[\"db\" + str(layer_idx_curr)] = db_curr\n",
    "\n",
    "    #返回所有参数的梯度值\n",
    "    return grads_values"
   ]
  },
  {
   "cell_type": "markdown",
   "metadata": {},
   "source": [
    "### 6. 参数更新\n",
    "根据梯度下降，对参数W与b进行参数更新\n",
    "\n",
    "$ \\ θ= θ-α*▽L $"
   ]
  },
  {
   "cell_type": "code",
   "execution_count": 914,
   "metadata": {},
   "outputs": [],
   "source": [
    "def update(params_values, grads_values, nn_architecture, learning_rate):\n",
    "    for layer_idx, layer in enumerate(nn_architecture):\n",
    "        \n",
    "        #W与b皆为从W1、b1开始\n",
    "        params_values[\"W\" + str(layer_idx+1)] -= learning_rate * grads_values[\"dW\" + str(layer_idx+1)]        \n",
    "        params_values[\"b\" + str(layer_idx+1)] -= learning_rate * grads_values[\"db\" + str(layer_idx+1)]\n",
    "\n",
    "    #返回更新后的参数\n",
    "    return params_values;"
   ]
  },
  {
   "cell_type": "markdown",
   "metadata": {},
   "source": [
    "## 三. 训练\n",
    "将train_data输入进神经网络，进行计算。\n",
    "为了提高训练质量，使用batch_size进行分批次训练。\n",
    "\n",
    "Batch Size设置合适时的优点：\n",
    "\n",
    "1. 通过并行化提高内存的利用率，提高训练速度。\n",
    "2. 单个epoch的迭代次数减少了，参数的调整也慢了，假如要达到相同的识别精度，需要更多的epoch。\n",
    "3. 适当Batch Size使得梯度下降方向更加准确。"
   ]
  },
  {
   "cell_type": "code",
   "execution_count": 915,
   "metadata": {},
   "outputs": [],
   "source": [
    "#定义训练函数\n",
    "def train(X, Y, nn_architecture, epochs, learning_rate,batch_size):\n",
    "    #输入初始化参数\n",
    "    params_values = init_params(nn_architecture)\n",
    "    losses=[]\n",
    "\n",
    "    #神经网络训练循环\n",
    "    for i in range(epochs):\n",
    "        \n",
    "        # 每batch_size个样本点被划分为一个撮，在循环的时候一批一批地读取\n",
    "        batch_loss = []\n",
    "        for start in range(0, len(X), batch_size):\n",
    "            end = start + batch_size if start + batch_size < len(X) else len(X)\n",
    "            XX = X[start:end]\n",
    "            #print(XX.shape)\n",
    "            XX=np.transpose(XX)\n",
    "            YY = Y[start:end]\n",
    "            YY=np.transpose(YY)\n",
    "             \n",
    "            Y_hat, cashe = full_forward_propagation(XX, params_values, nn_architecture)\n",
    "            #print(Y_hat)\n",
    "            cost = get_cost_value(Y_hat, YY)\n",
    "            #print(cost)\n",
    "            batch_loss.append(cost)\n",
    "                \n",
    "            grads_values = full_backward_propagation(Y_hat, YY, cashe, params_values, nn_architecture)\n",
    "            params_values = update(params_values, grads_values, nn_architecture, learning_rate)\n",
    "        \n",
    "        # 每隔100步输出一下损失值（loss）\n",
    "        if i % 100==0:\n",
    "            losses.append(np.mean(batch_loss))\n",
    "            print(i, np.mean(batch_loss)) \n",
    "    \n",
    "    #返回最终的参数值，用以预测\n",
    "    return params_values"
   ]
  },
  {
   "cell_type": "markdown",
   "metadata": {},
   "source": [
    "#### 自定义网络个数与参数\n",
    "本文选择隐藏层为两层，神经元数量分别为6与4"
   ]
  },
  {
   "cell_type": "code",
   "execution_count": 916,
   "metadata": {},
   "outputs": [],
   "source": [
    "nn_architecture = [\n",
    "    {\"input_dim\": features.shape[1], \"output_dim\":6, \"activation\": \"sigmoid\"},\n",
    "    {\"input_dim\": 6, \"output_dim\": 4, \"activation\": \"sigmoid\"},\n",
    "    {\"input_dim\": 4, \"output_dim\": 1, \"activation\": \"none\"},]"
   ]
  },
  {
   "cell_type": "markdown",
   "metadata": {},
   "source": [
    "进行训练，设置epochs为2000，学习率为0.01，batch_size为128"
   ]
  },
  {
   "cell_type": "code",
   "execution_count": 917,
   "metadata": {},
   "outputs": [
    {
     "name": "stdout",
     "output_type": "stream",
     "text": [
      "{'input_dim': 56, 'output_dim': 6, 'activation': 'sigmoid'}\n",
      "{'input_dim': 6, 'output_dim': 4, 'activation': 'sigmoid'}\n",
      "{'input_dim': 4, 'output_dim': 1, 'activation': 'none'}\n",
      "0 0.9737285702370855\n",
      "100 0.9987043020844\n",
      "200 0.6662042553935706\n",
      "300 0.2757910494320029\n",
      "400 0.252849800157505\n",
      "500 0.2327053272169614\n",
      "600 0.1895773628648771\n",
      "700 0.14404410166193887\n",
      "800 0.11206213294112387\n",
      "900 0.09242752147066449\n",
      "1000 0.08156035617304988\n",
      "1100 0.07553735601925267\n",
      "1200 0.07190278525588069\n",
      "1300 0.06946703468735982\n",
      "1400 0.06766391603442795\n",
      "1500 0.06622034080252291\n",
      "1600 0.06500576907221599\n",
      "1700 0.06395944823826617\n",
      "1800 0.06305221330675355\n",
      "1900 0.06226653398852889\n"
     ]
    }
   ],
   "source": [
    "params_values=train(X,Y, nn_architecture,2000, 0.01,128)"
   ]
  },
  {
   "cell_type": "code",
   "execution_count": 918,
   "metadata": {},
   "outputs": [
    {
     "data": {
      "text/plain": [
       "Text(0, 0.5, 'MSE')"
      ]
     },
     "execution_count": 918,
     "metadata": {},
     "output_type": "execute_result"
    },
    {
     "data": {
      "image/png": "[encoded data removed]",
      "text/plain": [
       "<Figure size 720x504 with 1 Axes>"
      ]
     },
     "metadata": {
      "needs_background": "light"
     },
     "output_type": "display_data"
    }
   ],
   "source": [
    "# 打印输出损失值\n",
    "fig = plt.figure(figsize=(10, 7))\n",
    "plt.plot(np.arange(len(losses))*100,losses)\n",
    "plt.xlabel('epoch')\n",
    "plt.ylabel('MSE')"
   ]
  },
  {
   "cell_type": "markdown",
   "metadata": {},
   "source": [
    "由上图\"损失函数—训练周期\"可以看出，平均误差随训练周期快速下降。"
   ]
  },
  {
   "cell_type": "markdown",
   "metadata": {},
   "source": [
    "## 四、进行预测\n",
    "将数据集的后21天的数据输入到训练好的网络中，并将输出值与y进行比较"
   ]
  },
  {
   "cell_type": "code",
   "execution_count": 923,
   "metadata": {},
   "outputs": [
    {
     "data": {
      "image/png": "[encoded data removed]",
      "text/plain": [
       "<Figure size 720x504 with 1 Axes>"
      ]
     },
     "metadata": {
      "needs_background": "light"
     },
     "output_type": "display_data"
    }
   ],
   "source": [
    "# 用训练好的神经网络在测试集上进行预测\n",
    "targets = test_targets['cnt'] #读取测试集的cnt数值\n",
    "targets = targets.values.reshape([len(targets),1]) #将数据转换成合适的tensor形式\n",
    "targets = targets.astype(float) #保证数据为实数\n",
    "\n",
    "# 将属性和预测变量包裹在Variable型变量中\n",
    "x = test_features.values\n",
    "y = targets\n",
    "\n",
    "# 用神经网络进行预测\n",
    "predict= full_forward_propagation(np.transpose(x), params_values, nn_architecture)[0]\n",
    "predict=predict.flatten()\n",
    "\n",
    "#print((predict * std + mean)[:10])\n",
    "\n",
    "# 将后21天的预测数据与真实数据画在一起并比较\n",
    "# 横坐标轴是不同的日期，纵坐标轴是预测或者真实数据的值\n",
    "fig, ax = plt.subplots(figsize = (10, 7))\n",
    "\n",
    "mean, std = scaled_features['cnt']\n",
    "ax.plot(predict * std + mean, label='Prediction', linestyle = '--')\n",
    "ax.plot(targets * std + mean, label='Data', linestyle = '-')\n",
    "ax.legend()\n",
    "ax.set_xlabel('Date-time')\n",
    "ax.set_ylabel('Counts')\n",
    "# 对横坐标轴进行标注\n",
    "dates = pd.to_datetime(rides.loc[test_data.index]['dteday'])\n",
    "dates = dates.apply(lambda d: d.strftime('%b %d'))\n",
    "ax.set_xticks(np.arange(len(dates))[12::24])\n",
    "_ = ax.set_xticklabels(dates[12::24], rotation=45)"
   ]
  },
  {
   "cell_type": "markdown",
   "metadata": {},
   "source": [
    "实际曲线与预测曲线的对比上图所示。其中，横坐标是不同的日期，纵坐标是预测或真实数据的值。虚线为预测曲线，实线为实际数据。"
   ]
  },
  {
   "cell_type": "markdown",
   "metadata": {},
   "source": [
    "可以看出，本神经网络拟合的曲线与实际曲线在12月25之前基本相符，但是在12㛑25日之后有较大的出入，分析可知，这是因为12月25日好是圣诞节。在圣诞节假期前后，人们的出行习惯会与往日相比会有所升高。"
   ]
  },
  {
   "cell_type": "markdown",
   "metadata": {},
   "source": [
    "产生这一偏差的原因是我们的训练样本中，对于圣诞节前后的情况样本太少，使得神经网络不能有效学习该类情况。为了提高预测准确率，可以增加该类样本数量，供神经网络学习。"
   ]
  },
  {
   "cell_type": "markdown",
   "metadata": {},
   "source": [
    "##  五、单层神经网络与多层神经网络简单对比\n",
    "固定隐藏层神经元总个数为10，分别进行单层（10）、双层（6+4）、三层（5+3+2）的神经网络训练"
   ]
  },
  {
   "cell_type": "markdown",
   "metadata": {},
   "source": [
    "### 1、单层（10）"
   ]
  },
  {
   "cell_type": "code",
   "execution_count": 926,
   "metadata": {},
   "outputs": [
    {
     "name": "stdout",
     "output_type": "stream",
     "text": [
      "{'input_dim': 56, 'output_dim': 10, 'activation': 'sigmoid'}\n",
      "{'input_dim': 10, 'output_dim': 1, 'activation': 'none'}\n",
      "0 0.942079519144533\n",
      "100 0.30640460259717295\n",
      "200 0.272788170242938\n",
      "300 0.2574819693912492\n",
      "400 0.24035811174333024\n",
      "500 0.21958651123170708\n",
      "600 0.193510093480868\n",
      "700 0.16179848205088385\n",
      "800 0.13493336239562229\n",
      "900 0.113979754587197\n",
      "1000 0.09813208841411973\n",
      "1100 0.08664425581236733\n",
      "1200 0.07859268845098859\n",
      "1300 0.07300235465395681\n",
      "1400 0.0691245056087082\n",
      "1500 0.06642131110316336\n",
      "1600 0.06450658362194162\n",
      "1700 0.06311352926324511\n",
      "1800 0.06206579076469227\n",
      "1900 0.0612496454877047\n"
     ]
    },
    {
     "data": {
      "text/plain": [
       "Text(0, 0.5, 'MSE')"
      ]
     },
     "execution_count": 926,
     "metadata": {},
     "output_type": "execute_result"
    },
    {
     "data": {
      "image/png": "[encoded data removed]",
      "text/plain": [
       "<Figure size 720x504 with 1 Axes>"
      ]
     },
     "metadata": {
      "needs_background": "light"
     },
     "output_type": "display_data"
    }
   ],
   "source": [
    "losses=[]\n",
    "nn_architecture = [\n",
    "    {\"input_dim\": features.shape[1], \"output_dim\":10, \"activation\": \"sigmoid\"},\n",
    "    {\"input_dim\":10, \"output_dim\": 1, \"activation\": \"none\"},]\n",
    "params_values=train(X,Y, nn_architecture,2000, 0.01,128)\n",
    "fig = plt.figure(figsize=(10, 7))\n",
    "plt.plot(np.arange(len(losses))*100,losses)\n",
    "plt.xlabel('epoch')\n",
    "plt.ylabel('MSE')"
   ]
  },
  {
   "cell_type": "markdown",
   "metadata": {},
   "source": [
    "上图为单层神经网络的\"损失函数—训练周期\"图，可以看出其平均误差随训练周期快速下降，与双层神经网络一的下降速度大致相同，且训练效果相差不大。"
   ]
  },
  {
   "cell_type": "markdown",
   "metadata": {},
   "source": [
    "### 2、三层（5+3+2）"
   ]
  },
  {
   "cell_type": "code",
   "execution_count": 927,
   "metadata": {},
   "outputs": [
    {
     "name": "stdout",
     "output_type": "stream",
     "text": [
      "{'input_dim': 56, 'output_dim': 5, 'activation': 'sigmoid'}\n",
      "{'input_dim': 5, 'output_dim': 3, 'activation': 'sigmoid'}\n",
      "{'input_dim': 3, 'output_dim': 2, 'activation': 'sigmoid'}\n",
      "{'input_dim': 2, 'output_dim': 1, 'activation': 'none'}\n",
      "0 0.9807332652935354\n",
      "100 1.0030138193143043\n",
      "200 1.003090741928494\n",
      "300 1.0031655340244015\n",
      "400 1.003238218523465\n",
      "500 1.0033088191952353\n",
      "600 1.0033773599971079\n",
      "700 1.0034438643254824\n",
      "800 1.0035083541398782\n",
      "900 1.0035708489049826\n",
      "1000 1.0036313642709724\n",
      "1100 1.0036899103750592\n",
      "1200 1.0037464895893113\n",
      "1300 1.0038010934481734\n",
      "1400 1.0038536983405826\n",
      "1500 1.0039042593046497\n",
      "1600 1.0039527008403004\n",
      "1700 1.0039989029089131\n",
      "1800 1.0040426789224073\n",
      "1900 1.0040837399181013\n"
     ]
    },
    {
     "data": {
      "text/plain": [
       "Text(0, 0.5, 'MSE')"
      ]
     },
     "execution_count": 927,
     "metadata": {},
     "output_type": "execute_result"
    },
    {
     "data": {
      "image/png": "[encoded data removed]",
      "text/plain": [
       "<Figure size 720x504 with 1 Axes>"
      ]
     },
     "metadata": {
      "needs_background": "light"
     },
     "output_type": "display_data"
    }
   ],
   "source": [
    "losses=[]\n",
    "nn_architecture = [\n",
    "    {\"input_dim\": features.shape[1], \"output_dim\":5, \"activation\": \"sigmoid\"},\n",
    "    {\"input_dim\": 5, \"output_dim\": 3, \"activation\": \"sigmoid\"},\n",
    "    {\"input_dim\": 3, \"output_dim\": 2, \"activation\": \"sigmoid\"},\n",
    "    {\"input_dim\": 2, \"output_dim\": 1, \"activation\": \"none\"},]\n",
    "\n",
    "params_values=train(X,Y, nn_architecture,2000, 0.01,128)\n",
    "fig = plt.figure(figsize=(10, 7))\n",
    "plt.plot(np.arange(len(losses))*100,losses)\n",
    "plt.xlabel('epoch')\n",
    "plt.ylabel('MSE')"
   ]
  },
  {
   "cell_type": "markdown",
   "metadata": {},
   "source": [
    "上图为三层神经网络的\"损失函数—训练周期\"图，可以看出其平均误差随训练周期并未下降，这可能是产生了梯度消失的问题，可能与sigmoid函数性质有关。"
   ]
  },
  {
   "cell_type": "markdown",
   "metadata": {},
   "source": [
    "由此简单的对比可以看出，随着深度的增加，在训练sigmoid神经网络时，应注意梯度消失的问题。"
   ]
  }
 ],
 "metadata": {
  "kernelspec": {
   "display_name": "Python 3",
   "language": "python",
   "name": "python3"
  },
  "language_info": {
   "codemirror_mode": {
    "name": "ipython",
    "version": 3
   },
   "file_extension": ".py",
   "mimetype": "text/x-python",
   "name": "python",
   "nbconvert_exporter": "python",
   "pygments_lexer": "ipython3",
   "version": "3.7.4"
  }
 },
 "nbformat": 4,
 "nbformat_minor": 2
}
